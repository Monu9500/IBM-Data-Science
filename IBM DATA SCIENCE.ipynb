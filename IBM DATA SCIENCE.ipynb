{
 "cells": [
  {
   "cell_type": "markdown",
   "id": "358875b9",
   "metadata": {},
   "source": [
    "| **Tool**         | **Description**                                                  |\n",
    "|------------------|------------------------------------------------------------------|\n",
    "| **Python**       | General-purpose programming language widely used in data science. |\n",
    "| **R**            | Language and environment for statistical computing and graphics. |\n",
    "| **SQL**          | Language for managing and querying relational databases.         |\n",
    "| **Jupyter**      | Interactive notebook environment for writing and running code.   |\n",
    "| **Anaconda**     | Distribution of Python and R for data science and machine learning. |\n",
    "| **NumPy**        | Library for numerical computing with support for arrays and matrices. |\n",
    "| **Pandas**       | Library for data manipulation and analysis, offering DataFrames.  |\n",
    "| **Matplotlib**   | Plotting library for creating static, animated, and interactive visualizations. |\n",
    "| **Seaborn**      | Statistical data visualization library based on Matplotlib.      |\n",
    "| **Scikit-learn** | Machine learning library with tools for data mining and analysis. |\n",
    "| **TensorFlow**   | Open-source machine learning framework for deep learning.        |\n",
    "| **Keras**        | High-level neural networks API running on top of TensorFlow.     |\n",
    "| **PyTorch**      | Deep learning framework known for its flexibility and ease of use. |\n",
    "| **SciPy**        | Library for scientific computing, including optimization and statistics. |\n",
    "| **Statsmodels**  | Library for estimating and testing statistical models.           |\n",
    "| **Plotly**       | Interactive graphing library for creating plots and dashboards.  |\n",
    "| **Altair**       | Declarative statistical visualization library for creating interactive plots. |\n",
    "| **XGBoost**      | Optimized gradient boosting library for speed and performance.   |\n",
    "| **LightGBM**     | High-performance gradient boosting framework for large-scale data. |\n",
    "| **CatBoost**     | Gradient boosting library with automatic handling of categorical features. |\n",
    "| **NLTK**         | Suite of libraries for natural language processing in Python.    |\n",
    "| **SpaCy**        | Industrial-strength NLP library for performance and ease of use. |\n",
    "| **Gensim**       | Library for topic modeling and document similarity in text mining. |\n",
    "| **PySpark**      | Python API for Apache Spark, used for big data processing.       |\n",
    "| **Dask**         | Parallel computing library for scaling Python code to clusters.  |\n"
   ]
  },
  {
   "cell_type": "markdown",
   "id": "bf764b38",
   "metadata": {},
   "source": [
    "# arithmetic expression"
   ]
  },
  {
   "cell_type": "markdown",
   "id": "7c7ce5b6",
   "metadata": {},
   "source": [
    "# Addition "
   ]
  },
  {
   "cell_type": "code",
   "execution_count": 1,
   "id": "d79b769e",
   "metadata": {},
   "outputs": [
    {
     "name": "stdout",
     "output_type": "stream",
     "text": [
      "25\n"
     ]
    }
   ],
   "source": [
    "a=12\n",
    "b=13\n",
    "print(a+b)"
   ]
  },
  {
   "cell_type": "markdown",
   "id": "164e83dc",
   "metadata": {},
   "source": [
    "# Multiplication "
   ]
  },
  {
   "cell_type": "code",
   "execution_count": 2,
   "id": "dacf1be5",
   "metadata": {},
   "outputs": [
    {
     "name": "stdout",
     "output_type": "stream",
     "text": [
      "6\n"
     ]
    }
   ],
   "source": [
    "a=2\n",
    "b=3\n",
    "print(a*b)"
   ]
  },
  {
   "cell_type": "markdown",
   "id": "e81c1683",
   "metadata": {},
   "source": [
    "# Subtract"
   ]
  },
  {
   "cell_type": "code",
   "execution_count": 3,
   "id": "6b4d4b8c",
   "metadata": {},
   "outputs": [
    {
     "name": "stdout",
     "output_type": "stream",
     "text": [
      "6\n"
     ]
    }
   ],
   "source": [
    "a=12\n",
    "b=6\n",
    "print(a-b)"
   ]
  },
  {
   "cell_type": "markdown",
   "id": "339f7720",
   "metadata": {},
   "source": [
    "# Division "
   ]
  },
  {
   "cell_type": "code",
   "execution_count": 4,
   "id": "d2191d7f",
   "metadata": {},
   "outputs": [
    {
     "name": "stdout",
     "output_type": "stream",
     "text": [
      "6.0\n"
     ]
    }
   ],
   "source": [
    "a=12\n",
    "b=2\n",
    "print(a/b)"
   ]
  },
  {
   "cell_type": "markdown",
   "id": "0fd05658",
   "metadata": {},
   "source": [
    "#  convert minutes to hours"
   ]
  },
  {
   "cell_type": "code",
   "execution_count": 5,
   "id": "1dfdeadc",
   "metadata": {},
   "outputs": [
    {
     "name": "stdout",
     "output_type": "stream",
     "text": [
      "Enter the min:120\n",
      "The hours is: 2.0\n"
     ]
    }
   ],
   "source": [
    "a=int(input(\"Enter the min:\"))\n",
    "print(\"The hours is:\",a/60)"
   ]
  },
  {
   "cell_type": "markdown",
   "id": "0b81065e",
   "metadata": {},
   "source": [
    "# # Introduction to Data Science Tools and Languages\n",
    "\n",
    "Data science involves a variety of languages and tools that help in data analysis, machine learning, and visualization. Below is a list of some key languages, tools, and libraries used in data science.\n",
    "\n",
    "## Data Science Languages, Tools, and Libraries\n",
    "\n",
    "1. **Python**: General-purpose programming language widely used in data science.\n",
    "2. **R**: Language and environment for statistical computing and graphics.\n",
    "3. **SQL**: Language for managing and querying relational databases.\n",
    "4. **Jupyter**: Interactive notebook environment for writing and running code.\n",
    "5. **Anaconda**: Distribution of Python and R for data science and machine learning.\n",
    "6. **NumPy**: Library for numerical computing with support for arrays and matrices.\n",
    "7. **Pandas**: Library for data manipulation and analysis, offering DataFrames.\n",
    "8. **Matplotlib**: Plotting library for creating static, animated, and interactive visualizations.\n",
    "9. **Seaborn**: Statistical data visualization library based on Matplotlib.\n",
    "10. **Scikit-learn**: Machine learning library with tools for data mining and analysis.\n",
    "11. **TensorFlow**: Open-source machine learning framework for deep learning.\n",
    "12. **Keras**: High-level neural networks API running on top of TensorFlow.\n",
    "13. **PyTorch**: Deep learning framework known for its flexibility and ease of use.\n",
    "14. **SciPy**: Library for scientific computing, including optimization and statistics.\n",
    "15. **Statsmodels**: Library for estimating and testing statistical models.\n",
    "16. **Plotly**: Interactive graphing library for creating plots and dashboards.\n",
    "17. **Altair**: Declarative statistical visualization library for creating interactive plots.\n",
    "18. **XGBoost**: Optimized gradient boosting library for speed and performance.\n",
    "19. **LightGBM**: High-performance gradient boosting framework for large-scale data.\n",
    "20. **CatBoost**: Gradient boosting library with automatic handling of categorical features.\n",
    "21. **NLTK**: Suite of libraries for natural language processing in Python.\n",
    "22. **SpaCy**: Industrial-strength NLP library for performance and ease of use.\n",
    "23. **Gensim**: Library for topic modeling and document similarity in text mining.\n",
    "24. **PySpark**: Python API for Apache Spark, used for big data processing.\n",
    "25. **Dask**: Parallel computing library for scaling Python code to clusters.\n",
    "\n",
    "## Arithmetic Expressions in Data Science\n",
    "\n",
    "In data science, arithmetic expressions are commonly used for calculations and data transformations. Below is an example of a simple arithmetic expression:\n",
    "\n",
    "**Addition Example:**\n",
    "\n",
    "```python\n",
    "# Example of adding two numbers\n",
    "a = 5\n",
    "b = 10\n",
    "sum = a + b\n",
    "print(\"Sum:\", sum)\n"
   ]
  },
  {
   "cell_type": "markdown",
   "id": "c23733aa",
   "metadata": {},
   "source": [
    "**Author:** Pritam Ghosh\n"
   ]
  },
  {
   "cell_type": "markdown",
   "id": "398c0f88",
   "metadata": {},
   "source": [
    "# Author of data science book"
   ]
  },
  {
   "cell_type": "code",
   "execution_count": 6,
   "id": "8c2730ad",
   "metadata": {},
   "outputs": [
    {
     "name": "stdout",
     "output_type": "stream",
     "text": [
      "John Doe\n"
     ]
    }
   ],
   "source": [
    "print(\"John Doe\")"
   ]
  },
  {
   "cell_type": "code",
   "execution_count": null,
   "id": "92436742",
   "metadata": {},
   "outputs": [],
   "source": []
  }
 ],
 "metadata": {
  "kernelspec": {
   "display_name": "Python 3 (ipykernel)",
   "language": "python",
   "name": "python3"
  },
  "language_info": {
   "codemirror_mode": {
    "name": "ipython",
    "version": 3
   },
   "file_extension": ".py",
   "mimetype": "text/x-python",
   "name": "python",
   "nbconvert_exporter": "python",
   "pygments_lexer": "ipython3",
   "version": "3.11.3"
  }
 },
 "nbformat": 4,
 "nbformat_minor": 5
}
